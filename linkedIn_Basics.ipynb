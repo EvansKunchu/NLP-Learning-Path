{
  "nbformat": 4,
  "nbformat_minor": 0,
  "metadata": {
    "colab": {
      "provenance": [],
      "authorship_tag": "ABX9TyOSiO/uH5bLpt/2dEMmvjHR",
      "include_colab_link": true
    },
    "kernelspec": {
      "name": "python3",
      "display_name": "Python 3"
    },
    "language_info": {
      "name": "python"
    }
  },
  "cells": [
    {
      "cell_type": "markdown",
      "metadata": {
        "id": "view-in-github",
        "colab_type": "text"
      },
      "source": [
        "<a href=\"https://colab.research.google.com/github/EvansKunchu/NLP-Learning-Path/blob/main/linkedIn_Basics.ipynb\" target=\"_parent\"><img src=\"https://colab.research.google.com/assets/colab-badge.svg\" alt=\"Open In Colab\"/></a>"
      ]
    },
    {
      "cell_type": "code",
      "execution_count": 20,
      "metadata": {
        "id": "Jl4kNgfRFnkO"
      },
      "outputs": [],
      "source": [
        " # import the required libraries\n",
        " import tensorflow as tf\n",
        " from tensorflow import keras\n",
        " from tensorflow.keras.preprocessing.text import Tokenizer"
      ]
    },
    {
      "cell_type": "markdown",
      "source": [
        "DEFINING THE TRAINING SENTENCES"
      ],
      "metadata": {
        "id": "0jUPQcucG9CA"
      }
    },
    {
      "cell_type": "code",
      "source": [
        "# Sentences to tokenize\n",
        "train_sentences = [\n",
        "    'it is a sunny day',\n",
        "    'The day is brigth too'\n",
        "\n",
        "]"
      ],
      "metadata": {
        "id": "wvdiLLo9G7-y"
      },
      "execution_count": 29,
      "outputs": []
    },
    {
      "cell_type": "markdown",
      "source": [
        "Set up a tokenizer"
      ],
      "metadata": {
        "id": "nmPoMw_oHWmn"
      }
    },
    {
      "cell_type": "code",
      "source": [
        "# intiate the tokenizer\n",
        "tokenizer = Tokenizer(num_words=100)\n",
        "\n",
        "# train the tokenizer on the training sentence\n",
        "tokenizer.fit_on_texts(train_sentences)\n",
        "\n",
        "# Store the word index for the words in the sentence\n",
        "word_index = tokenizer.word_index\n",
        "print(word_index)"
      ],
      "metadata": {
        "colab": {
          "base_uri": "https://localhost:8080/"
        },
        "id": "uEUjk1IpHVNk",
        "outputId": "30924070-9904-47ae-9c55-5c26eece094f"
      },
      "execution_count": 22,
      "outputs": [
        {
          "output_type": "stream",
          "name": "stdout",
          "text": [
            "{'is': 1, 'day': 2, 'it': 3, 'a': 4, 'sunny': 5, 'the': 6, 'brigth': 7, 'too': 8}\n"
          ]
        }
      ]
    },
    {
      "cell_type": "markdown",
      "source": [
        "Convert the sentences into the neural network"
      ],
      "metadata": {
        "id": "HH4DzMYjK_UJ"
      }
    },
    {
      "cell_type": "code",
      "source": [
        "# Create sequences using the tokenizer\n",
        "sequences = tokenizer.texts_to_sequences(train_sentences)\n"
      ],
      "metadata": {
        "id": "vfbh0Bn7K-td"
      },
      "execution_count": 23,
      "outputs": []
    },
    {
      "cell_type": "code",
      "source": [
        "print(f\"word index {word_index}\")\n",
        "print(f\"Word sequence {sequences}\")"
      ],
      "metadata": {
        "colab": {
          "base_uri": "https://localhost:8080/"
        },
        "id": "lSxfG_IUMebp",
        "outputId": "2009d8ef-055d-485b-e953-64ead54ffb26"
      },
      "execution_count": 24,
      "outputs": [
        {
          "output_type": "stream",
          "name": "stdout",
          "text": [
            "word index {'is': 1, 'day': 2, 'it': 3, 'a': 4, 'sunny': 5, 'the': 6, 'brigth': 7, 'too': 8}\n",
            "Word sequence [[3, 1, 4, 5, 2], [6, 2, 1, 7, 8]]\n"
          ]
        }
      ]
    },
    {
      "cell_type": "code",
      "source": [
        "# print sample sentences and sequences\n",
        "print(train_sentences[0])\n",
        "print(sequences[0])"
      ],
      "metadata": {
        "colab": {
          "base_uri": "https://localhost:8080/"
        },
        "id": "qaWX6y19Mu4p",
        "outputId": "18d391de-2f90-4803-c9d2-f53406a94760"
      },
      "execution_count": 25,
      "outputs": [
        {
          "output_type": "stream",
          "name": "stdout",
          "text": [
            "it is a sunny day\n",
            "[3, 1, 4, 5, 2]\n"
          ]
        }
      ]
    },
    {
      "cell_type": "markdown",
      "source": [
        "Tokenizing new data using the same tokenizer"
      ],
      "metadata": {
        "id": "Xz3kSwgDNChV"
      }
    },
    {
      "cell_type": "code",
      "source": [
        "new_sentences = [\n",
        "    'will it rain today',\n",
        "    'What do you think of the weather'\n",
        "]\n",
        "new_sequences = tokenizer.fit_on_texts(new_sentences)\n",
        "print(new_sentences)\n",
        "print(new_sequences)"
      ],
      "metadata": {
        "colab": {
          "base_uri": "https://localhost:8080/"
        },
        "id": "fw63AI8_NHgJ",
        "outputId": "a1ad2d2f-ad1c-4be8-9adf-82f7ca55fc28"
      },
      "execution_count": 26,
      "outputs": [
        {
          "output_type": "stream",
          "name": "stdout",
          "text": [
            "['will it rain today', 'What do you think of the weather']\n",
            "None\n"
          ]
        }
      ]
    },
    {
      "cell_type": "markdown",
      "source": [
        "Replacing newly encountered words with"
      ],
      "metadata": {
        "id": "S2QAXZsuOGCd"
      }
    },
    {
      "cell_type": "code",
      "source": [
        "## set up the tokenizer agian eith the oov_token\n",
        "tokenizer = Tokenizer(num_words=100, oov_token = \"<oov>\")\n",
        "## train the new tokenizer on training sentences\n",
        "tokenizer.fit_on_texts (new_sentences)\n",
        "\n",
        "##Store word index for the words in the sentences\n",
        "word_index = tokenizer.word_index"
      ],
      "metadata": {
        "id": "7zwmNLDjOLDf"
      },
      "execution_count": 33,
      "outputs": []
    },
    {
      "cell_type": "code",
      "source": [
        "# Create sequences of the new sentences\n",
        "new_sequences = tokenizer.texts_to_sequences(new_sentences)\n",
        "print(word_index)\n",
        "print(new_sentences)\n",
        "print(new_sequences)"
      ],
      "metadata": {
        "colab": {
          "base_uri": "https://localhost:8080/"
        },
        "id": "RTFTx3Z_QGv0",
        "outputId": "c4de4a9d-a067-40c9-f6ad-8983315757e3"
      },
      "execution_count": 35,
      "outputs": [
        {
          "output_type": "stream",
          "name": "stdout",
          "text": [
            "{'<oov>': 1, 'will': 2, 'it': 3, 'rain': 4, 'today': 5, 'what': 6, 'do': 7, 'you': 8, 'think': 9, 'of': 10, 'the': 11, 'weather': 12}\n",
            "['will it rain today', 'What do you think of the weather']\n",
            "[[2, 3, 4, 5], [6, 7, 8, 9, 10, 11, 12]]\n"
          ]
        }
      ]
    }
  ]
}